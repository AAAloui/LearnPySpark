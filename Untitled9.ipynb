{
  "nbformat": 4,
  "nbformat_minor": 0,
  "metadata": {
    "colab": {
      "provenance": [],
      "authorship_tag": "ABX9TyN4gd/XgV6BKLcwzpl+1Vkz",
      "include_colab_link": true
    },
    "kernelspec": {
      "name": "python3",
      "display_name": "Python 3"
    },
    "language_info": {
      "name": "python"
    }
  },
  "cells": [
    {
      "cell_type": "markdown",
      "metadata": {
        "id": "view-in-github",
        "colab_type": "text"
      },
      "source": [
        "<a href=\"https://colab.research.google.com/github/AAAloui/LearnPySpark/blob/main/Untitled9.ipynb\" target=\"_parent\"><img src=\"https://colab.research.google.com/assets/colab-badge.svg\" alt=\"Open In Colab\"/></a>"
      ]
    },
    {
      "cell_type": "code",
      "execution_count": null,
      "metadata": {
        "id": "USifldF6sf0S"
      },
      "outputs": [],
      "source": [
        "from pyspark.sql import SparkSession"
      ]
    },
    {
      "cell_type": "code",
      "source": [
        "spark = SparkSession.builder.appName(\"PythonWordCount\").getOrCreate()"
      ],
      "metadata": {
        "id": "ogy8ufZ2Azlw"
      },
      "execution_count": null,
      "outputs": []
    },
    {
      "cell_type": "code",
      "source": [
        "\n",
        "text = \"I use this text to test a word count program word word\"\n",
        "\n"
      ],
      "metadata": {
        "id": "59WA0EMSA2eX"
      },
      "execution_count": null,
      "outputs": []
    },
    {
      "cell_type": "code",
      "source": [
        "words = spark.sparkContext.parallelize(text.split(\" \"))\n",
        "\n"
      ],
      "metadata": {
        "id": "fVYLMf_rA3tH"
      },
      "execution_count": null,
      "outputs": []
    },
    {
      "cell_type": "code",
      "source": [
        "wordCounts = words.map(lambda word: (word, 1)).reduceByKey(lambda a, b: a+b)\n"
      ],
      "metadata": {
        "id": "hfQcmCEiA5J-"
      },
      "execution_count": null,
      "outputs": []
    },
    {
      "cell_type": "code",
      "source": [
        "\n",
        "for wc in wordCounts.collect():\n",
        "    print(wc[0], wc[1])\n"
      ],
      "metadata": {
        "colab": {
          "base_uri": "https://localhost:8080/"
        },
        "id": "DG6faNLSA6SH",
        "outputId": "39eff03b-95c9-4f06-bee2-4cc36bc12c74"
      },
      "execution_count": null,
      "outputs": [
        {
          "output_type": "stream",
          "name": "stdout",
          "text": [
            "use 1\n",
            "this 1\n",
            "test 1\n",
            "count 1\n",
            "I 1\n",
            "text 1\n",
            "to 1\n",
            "a 1\n",
            "word 3\n",
            "program 1\n"
          ]
        }
      ]
    },
    {
      "cell_type": "code",
      "source": [
        "\n",
        "spark.stop()"
      ],
      "metadata": {
        "id": "Bp_QYAafA7M-"
      },
      "execution_count": null,
      "outputs": []
    },
    {
      "cell_type": "code",
      "source": [
        "from pyspark.sql import SparkSession\n",
        "\n",
        "# Initialize a Spark session\n",
        "spark = SparkSession.builder.appName(\"SimpleSparkJob\").getOrCreate()\n",
        "\n",
        "# Sample data\n",
        "data = [(\"Alice\",), (\"Bob\",), (\"Charlie\",), (\"Alice\",), (\"David\",)]\n",
        "columns = [\"name\"]\n",
        "\n",
        "# Create a DataFrame\n",
        "df = spark.createDataFrame(data, columns)\n",
        "\n",
        "# Filter out the name 'Alice'\n",
        "filtered_df = df.filter(df.name != \"Alice\")\n",
        "\n",
        "# Show the result\n",
        "filtered_df.show()\n",
        "\n",
        "# Save result to a local file\n",
        "filtered_df.write.mode(\"overwrite\").csv(\"/tmp/spark_output/filtered_names.csv\")\n",
        "\n",
        "# Stop the Spark session\n",
        "spark.stop()"
      ],
      "metadata": {
        "colab": {
          "base_uri": "https://localhost:8080/"
        },
        "id": "Fts-9o2wBRZY",
        "outputId": "1f634c29-a840-425f-b7fd-8b77c1adb4ab"
      },
      "execution_count": null,
      "outputs": [
        {
          "output_type": "stream",
          "name": "stdout",
          "text": [
            "+-------+\n",
            "|   name|\n",
            "+-------+\n",
            "|    Bob|\n",
            "|Charlie|\n",
            "|  David|\n",
            "+-------+\n",
            "\n"
          ]
        }
      ]
    }
  ]
}